{
  "nbformat": 4,
  "nbformat_minor": 0,
  "metadata": {
    "colab": {
      "name": "TUGPRO2",
      "provenance": [],
      "collapsed_sections": []
    },
    "kernelspec": {
      "name": "python3",
      "display_name": "Python 3"
    },
    "language_info": {
      "name": "python"
    }
  },
  "cells": [
    {
      "cell_type": "code",
      "metadata": {
        "id": "TnAdULKoZHra"
      },
      "source": [
        "import pandas as pd"
      ],
      "execution_count": null,
      "outputs": []
    },
    {
      "cell_type": "code",
      "metadata": {
        "id": "YCYKCN0Cup7E"
      },
      "source": [
        "import random"
      ],
      "execution_count": null,
      "outputs": []
    },
    {
      "cell_type": "code",
      "metadata": {
        "id": "pBVIMaWmsjWP"
      },
      "source": [
        "import xlwt"
      ],
      "execution_count": null,
      "outputs": []
    },
    {
      "cell_type": "markdown",
      "metadata": {
        "id": "SiYY9dqkhGnE"
      },
      "source": [
        "Membaca File"
      ]
    },
    {
      "cell_type": "code",
      "metadata": {
        "colab": {
          "base_uri": "https://localhost:8080/"
        },
        "id": "CamacHGNZLdN",
        "outputId": "dbd1d1e1-1b9c-4182-83da-37e7c241742f"
      },
      "source": [
        "!gdown --id 1zXmu03DJVeJy9arvHSmi9HmOpgue56Xv"
      ],
      "execution_count": null,
      "outputs": [
        {
          "output_type": "stream",
          "text": [
            "Downloading...\n",
            "From: https://drive.google.com/uc?id=1zXmu03DJVeJy9arvHSmi9HmOpgue56Xv\n",
            "To: /content/restoran.xlsx\n",
            "\r  0% 0.00/10.5k [00:00<?, ?B/s]\r100% 10.5k/10.5k [00:00<00:00, 12.1MB/s]\n"
          ],
          "name": "stdout"
        }
      ]
    },
    {
      "cell_type": "code",
      "metadata": {
        "id": "66rgfFaTZfKc"
      },
      "source": [
        "df = pd.read_excel(\"restoran.xlsx\")"
      ],
      "execution_count": null,
      "outputs": []
    },
    {
      "cell_type": "markdown",
      "metadata": {
        "id": "OL7ZFK0ChPNY"
      },
      "source": [
        "Fuzzifikasi"
      ]
    },
    {
      "cell_type": "code",
      "metadata": {
        "id": "04MCXVqyhOlw"
      },
      "source": [
        "def fuzifikasipelayanan(pelayanan):\n",
        "  if pelayanan <= 35:\n",
        "    hasil=[['kurang baik',1]]\n",
        "  elif pelayanan > 35 and pelayanan < 55:\n",
        "    x = -(pelayanan-55)/(55-35)\n",
        "    y = (pelayanan-35)/(55-35)\n",
        "    hasil=[['kurang baik',x],['cukup baik',y]]\n",
        "  elif pelayanan == 55:\n",
        "    hasil=[['cukup baik',1]]\n",
        "  elif pelayanan > 55 and pelayanan < 75:\n",
        "    x = -(pelayanan-75)/(75-55)\n",
        "    y = (pelayanan-55)/(75-55)\n",
        "    hasil=[['cukup baik',x],['baik',y]]\n",
        "  elif pelayanan == 75:\n",
        "    hasil=[['baik',1]]\n",
        "  elif pelayanan > 75 and pelayanan < 90:\n",
        "    x = -(pelayanan-90)/(90-75)\n",
        "    y = (pelayanan-75)/(90-75)\n",
        "    hasil=[['baik',x],['sangat baik',y]]\n",
        "  elif pelayanan >=90:\n",
        "    hasil=[['sangat baik',1]]\n",
        "  return hasil"
      ],
      "execution_count": null,
      "outputs": []
    },
    {
      "cell_type": "code",
      "metadata": {
        "id": "f8kYiqOy_inL"
      },
      "source": [
        "def fuzifikasimakanan(makanan):\n",
        "  if makanan <= 3:\n",
        "    hasil=[['kurang enak',1]]\n",
        "  elif makanan > 3 and makanan <6:\n",
        "    x = -(makanan-6)/(6-3)\n",
        "    y = (makanan-3)/(6-3)\n",
        "    hasil=[['kurang enak',x],['enak',y]]\n",
        "  elif makanan == 6:\n",
        "    hasil=[['enak',1]]\n",
        "  elif makanan > 6 and makanan < 9:\n",
        "    x = -(makanan-9)/(9-6)\n",
        "    y = (makanan-6)/(9-6)\n",
        "    hasil=[['enak',x],['sangat enak',y]]\n",
        "  elif makanan >= 9:\n",
        "    hasil=[['sangat enak',1]]\n",
        "  return hasil    "
      ],
      "execution_count": null,
      "outputs": []
    },
    {
      "cell_type": "code",
      "metadata": {
        "id": "8shFAy5jAt0r"
      },
      "source": [
        "def fuzifikasi(pelayanan,makanan):\n",
        "  hasilpelayanan = fuzifikasipelayanan(pelayanan)\n",
        "  hasilmakanan = fuzifikasimakanan(makanan)\n",
        "  hasil = hasilpelayanan + hasilmakanan\n",
        "  return hasil"
      ],
      "execution_count": null,
      "outputs": []
    },
    {
      "cell_type": "markdown",
      "metadata": {
        "id": "2JRBf7rjtjmW"
      },
      "source": [
        "inferensi"
      ]
    },
    {
      "cell_type": "code",
      "metadata": {
        "id": "rursx6orCKzR"
      },
      "source": [
        "def fuzifikasicon(nilai1,nilai2):\n",
        "  if nilai1[0] == 'kurang baik' and nilai2[0] == 'kurang enak':\n",
        "    if nilai1[1]<nilai2[1]:\n",
        "      nilai=nilai1[1]\n",
        "    else:\n",
        "      nilai=nilai2[1]\n",
        "    nk=['rendah',nilai]\n",
        "  if nilai1[0] == 'kurang baik' and nilai2[0] == 'enak':\n",
        "    if nilai1[1]<nilai2[1]:\n",
        "      nilai=nilai1[1]\n",
        "    else:\n",
        "      nilai=nilai2[1]\n",
        "    nk=['rendah',nilai]\n",
        "  if nilai1[0] == 'kurang baik' and nilai2[0] == 'sangat enak':\n",
        "    if nilai1[1]<nilai2[1]:\n",
        "      nilai=nilai1[1]\n",
        "    else:\n",
        "      nilai=nilai2[1]\n",
        "    nk=['rendah',nilai]\n",
        "  if nilai1[0] == 'cukup baik' and nilai2[0] == 'kurang enak':\n",
        "    if nilai1[1]<nilai2[1]:\n",
        "      nilai=nilai1[1]\n",
        "    else:\n",
        "      nilai=nilai2[1]\n",
        "    nk=['rendah',nilai]\n",
        "  if nilai1[0] == 'cukup baik' and nilai2[0] == 'enak':\n",
        "    if nilai1[1]<nilai2[1]:\n",
        "      nilai=nilai1[1]\n",
        "    else:\n",
        "      nilai=nilai2[1]\n",
        "    nk=['rendah',nilai]\n",
        "  if nilai1[0] == 'cukup baik' and nilai2[0] == 'sangat enak':\n",
        "    if nilai1[1]<nilai2[1]:\n",
        "      nilai=nilai1[1]\n",
        "    else:\n",
        "      nilai=nilai2[1]\n",
        "    nk=['rendah',nilai]\n",
        "  if nilai1[0] == 'baik' and nilai2[0] == 'kurang enak':\n",
        "    if nilai1[1]<nilai2[1]:\n",
        "      nilai=nilai1[1]\n",
        "    else:\n",
        "      nilai=nilai2[1]\n",
        "    nk=['rendah',nilai]\n",
        "  if nilai1[0] == 'baik' and nilai2[0] == 'enak':\n",
        "    if nilai1[1]<nilai2[1]:\n",
        "      nilai=nilai1[1]\n",
        "    else:\n",
        "      nilai=nilai2[1]\n",
        "    nk=['rendah',nilai]\n",
        "  if nilai1[0] == 'baik' and nilai2[0] == 'sangat enak':\n",
        "    if nilai1[1]<nilai2[1]:\n",
        "      nilai=nilai1[1]\n",
        "    else:\n",
        "      nilai=nilai2[1]\n",
        "    nk=['tinggi',nilai]\n",
        "  if nilai1[0] == 'sangat baik' and nilai2[0] == 'kurang enak':\n",
        "    if nilai1[1]<nilai2[1]:\n",
        "      nilai=nilai1[1]\n",
        "    else:\n",
        "      nilai=nilai2[1]\n",
        "    nk=['rendah',nilai]\n",
        "  if nilai1[0] == 'sangat baik' and nilai2[0] == 'enak':\n",
        "    if nilai1[1]<nilai2[1]:\n",
        "      nilai=nilai1[1]\n",
        "    else:\n",
        "      nilai=nilai2[1]\n",
        "    nk=['rendah',nilai]\n",
        "  if nilai1[0] == 'sangat baik' and nilai2[0] == 'sangat enak':\n",
        "    if nilai1[1]<nilai2[1]:\n",
        "      nilai=nilai1[1]\n",
        "    else:\n",
        "      nilai=nilai2[1]\n",
        "    nk=['tinggi',nilai]\n",
        "  return nk"
      ],
      "execution_count": null,
      "outputs": []
    },
    {
      "cell_type": "code",
      "metadata": {
        "id": "GDILViLrEQNA"
      },
      "source": [
        "def fuzifikasidis(hasilcon):\n",
        "  rendah = []\n",
        "  tinggi = []\n",
        "  hasil = []\n",
        "  maxrendah = 0\n",
        "  maxtinggi = 0\n",
        "  for nilai in hasilcon:\n",
        "    if nilai[0] == 'rendah':\n",
        "      rendah.append(nilai)\n",
        "    else:\n",
        "      tinggi.append(nilai)\n",
        "  if len(rendah) != 0:\n",
        "    for nilai in rendah:\n",
        "      if nilai[1] > maxrendah:\n",
        "        maxrendah = nilai[1]\n",
        "  hasil.append(['rendah',maxrendah])\n",
        "  if len(tinggi) != 0:\n",
        "    for nilai in tinggi:\n",
        "      if nilai[1]  > maxtinggi:\n",
        "        maxtinggi = nilai[1]\n",
        "  hasil.append(['tinggi',maxtinggi])\n",
        "  return hasil      "
      ],
      "execution_count": null,
      "outputs": []
    },
    {
      "cell_type": "code",
      "metadata": {
        "id": "bNAPKHn0H88J"
      },
      "source": [
        "def inferensi(nilaifuzzy):\n",
        "  con = []\n",
        "  i = 0\n",
        "  while i < 2:\n",
        "    if nilaifuzzy[i][0]=='kurang enak' or nilaifuzzy[i][0]=='enak' or nilaifuzzy[i][0]=='sangat enak':\n",
        "        break\n",
        "    j = 1\n",
        "    while j < (len(nilaifuzzy)):\n",
        "      if nilaifuzzy[j][0]=='kurang baik' or nilaifuzzy[j][0]=='cukup baik' or nilaifuzzy[j][0]=='baik' or nilaifuzzy[j][0]=='sangat baik':\n",
        "        j += 1\n",
        "      con.append(fuzifikasicon(nilaifuzzy[i], nilaifuzzy[j]))\n",
        "      j += 1\n",
        "    i += 1\n",
        "  return fuzifikasidis(con)"
      ],
      "execution_count": null,
      "outputs": []
    },
    {
      "cell_type": "markdown",
      "metadata": {
        "id": "hTJweUN5tltG"
      },
      "source": [
        "defuzifikasi"
      ]
    },
    {
      "cell_type": "code",
      "metadata": {
        "id": "_N9ejsnoInd6"
      },
      "source": [
        "def defuzifikasi(hasilinferensi):\n",
        "  rendah = [10,20,30,40,50]\n",
        "  antara = [60,70]\n",
        "  tinggi = [80,90,100]\n",
        "  totalren, totalteng, totalteng1, totalteng2, totalting, penyebutteng = 0, 0, 0, 0, 0, 0\n",
        "  if len(hasilinferensi) == 1:\n",
        "    if hasilinferensi[0][0] == 'rendah':\n",
        "      nkrendah = hasilinferensi[0][1]\n",
        "    elif hasilinferensi[0][0] == 'tinggi':\n",
        "      nktinggi = hasilinferensi[0][1]\n",
        "  else:\n",
        "    nkrendah = hasilinferensi[0][1]\n",
        "    nktinggi = hasilinferensi[1][1]\n",
        "  #for i in range(10):\n",
        "  #  if i < 5:\n",
        "  #    x = random.randrange(0,51)\n",
        "  # else:\n",
        "  #   x = random.randrange(50,101)\n",
        "  # if x <= 50:\n",
        "   #   rendah.append(x)\n",
        "   # elif x > 50 and x < 80:\n",
        "   #   antara.append(x)\n",
        "   # elif x >= 80:\n",
        "    #  tinggi.append(x)\n",
        "  \n",
        "  for nilai in rendah:\n",
        "    totalren += nilai\n",
        "  totalren = totalren * nkrendah\n",
        "\n",
        "  for nilai in antara:\n",
        "    x = -(nilai-80)/(80-50)\n",
        "    y = (nilai-50)/(80-50)\n",
        "    if nkrendah > x or nktinggi > y:\n",
        "      totalteng1 = nilai*x\n",
        "      totalteng2 = nilai*y\n",
        "      if totalteng1 > totalteng2:\n",
        "        totalteng += totalteng1\n",
        "        penyebutteng += x\n",
        "      else:\n",
        "        totalteng += totalteng2\n",
        "        penyebutteng += y\n",
        "    else:\n",
        "      totalteng1 = nilai*nkrendah\n",
        "      totalteng2 = nilai*nktinggi\n",
        "      if totalteng1 > totalteng2:\n",
        "        totalteng += totalteng1\n",
        "        penyebutteng += nkrendah\n",
        "      else:\n",
        "        totalteng += totalteng2\n",
        "        penyebutteng += nktinggi\n",
        "  for nilai in tinggi:\n",
        "    totalting += nilai\n",
        "  totalting = totalting * nktinggi\n",
        "  pembilang = totalren+totalteng+totalting\n",
        "  penyebut = (nkrendah*len(rendah))+penyebutteng+(nktinggi*len(tinggi))\n",
        "  hasil = pembilang/penyebut\n",
        "  return hasil"
      ],
      "execution_count": null,
      "outputs": []
    },
    {
      "cell_type": "code",
      "metadata": {
        "id": "BR0eWbDTnLxX"
      },
      "source": [
        "calon= []\n",
        "for i in range(100):\n",
        "  nilai = fuzifikasi(df['pelayanan'][i], df['makanan'][i])\n",
        "  nk = inferensi(nilai)\n",
        "  calon.append([i+1,defuzifikasi(nk)])\n",
        "hasil = sorted(calon, key = lambda x: x[1], reverse=True)\n",
        "workbook = xlwt.Workbook()\n",
        "worksheet = workbook.add_sheet('Restoran')\n",
        "\n",
        "row = 1\n",
        "\n",
        "worksheet.write(0,0,'id')\n",
        "\n",
        "for i in range(10):\n",
        "  worksheet.write(row,0,hasil[i][0])\n",
        "  row += 1\n",
        "\n",
        "workbook.save('Restoran Terbaik.xls')"
      ],
      "execution_count": null,
      "outputs": []
    }
  ]
}